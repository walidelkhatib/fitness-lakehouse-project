{
 "cells": [
  {
   "cell_type": "markdown",
   "metadata": {
    "application/vnd.databricks.v1+cell": {
     "cellMetadata": {},
     "inputWidgets": {},
     "nuid": "66cd2695-fe0d-44d4-826f-ea565417f97b",
     "showTitle": false,
     "tableResultSettingsMap": {},
     "title": ""
    }
   },
   "source": [
    "## Sets up Autoloader with structured streaming to ingest new data into the bronze Delta table"
   ]
  },
  {
   "cell_type": "code",
   "execution_count": 0,
   "metadata": {
    "application/vnd.databricks.v1+cell": {
     "cellMetadata": {
      "byteLimit": 2048000,
      "rowLimit": 10000
     },
     "inputWidgets": {},
     "nuid": "cfd54666-a975-4396-949a-4cd83b75b921",
     "showTitle": false,
     "tableResultSettingsMap": {},
     "title": ""
    }
   },
   "outputs": [],
   "source": [
    "from pyspark.sql.functions import current_timestamp\n",
    "from pyspark.sql.types import StructType, StructField, StringType, IntegerType, DoubleType"
   ]
  },
  {
   "cell_type": "code",
   "execution_count": 0,
   "metadata": {
    "application/vnd.databricks.v1+cell": {
     "cellMetadata": {
      "byteLimit": 2048000,
      "rowLimit": 10000
     },
     "inputWidgets": {},
     "nuid": "4309bbdf-4970-4d63-9d10-9bbed81a1cc4",
     "showTitle": false,
     "tableResultSettingsMap": {},
     "title": ""
    }
   },
   "outputs": [],
   "source": [
    "# 1. Define Schema Manually\n",
    "activity_schema = StructType([\n",
    "    StructField(\"Id\", StringType(), True),\n",
    "    StructField(\"ActivityDate\", StringType(), True),\n",
    "    StructField(\"TotalSteps\", IntegerType(), True),\n",
    "    StructField(\"TotalDistance\", DoubleType(), True),\n",
    "    StructField(\"TrackerDistance\", DoubleType(), True),\n",
    "    StructField(\"LoggedActivitiesDistance\", DoubleType(), True),\n",
    "    StructField(\"VeryActiveDistance\", DoubleType(), True),\n",
    "    StructField(\"ModeratelyActiveDistance\", DoubleType(), True),\n",
    "    StructField(\"LightActiveDistance\", DoubleType(), True),\n",
    "    StructField(\"SedentaryActiveDistance\", DoubleType(), True),\n",
    "    StructField(\"VeryActiveMinutes\", IntegerType(), True),\n",
    "    StructField(\"FairlyActiveMinutes\", IntegerType(), True),\n",
    "    StructField(\"LightlyActiveMinutes\", IntegerType(), True),\n",
    "    StructField(\"SedentaryMinutes\", IntegerType(), True),\n",
    "    StructField(\"Calories\", IntegerType(), True)\n",
    "])"
   ]
  },
  {
   "cell_type": "code",
   "execution_count": 0,
   "metadata": {
    "application/vnd.databricks.v1+cell": {
     "cellMetadata": {
      "byteLimit": 2048000,
      "rowLimit": 10000
     },
     "inputWidgets": {},
     "nuid": "e3533e0b-7ebb-4c7b-94ef-13a972e9f99a",
     "showTitle": false,
     "tableResultSettingsMap": {},
     "title": ""
    }
   },
   "outputs": [],
   "source": [
    "# 2. Define Source Path (Landing Zone)\n",
    "source_path = \"s3://databricks-745bwkyiddeq9fthttjahg-cloud-storage-bucket/ohio-prod/3903799048317088/landing/bronze/daily_activity_stream/\"\n",
    "\n",
    "# 3. Define Destination Path (Bronze Table Path)\n",
    "bronze_path = \"s3://databricks-745bwkyiddeq9fthttjahg-cloud-storage-bucket/ohio-prod/3903799048317088/mnt/bronze/daily_activity_autoloaded/\""
   ]
  },
  {
   "cell_type": "code",
   "execution_count": 0,
   "metadata": {
    "application/vnd.databricks.v1+cell": {
     "cellMetadata": {
      "byteLimit": 2048000,
      "rowLimit": 10000
     },
     "inputWidgets": {},
     "nuid": "b1fb85a7-3f5f-4476-b134-3f1f16a4f324",
     "showTitle": false,
     "tableResultSettingsMap": {},
     "title": ""
    }
   },
   "outputs": [],
   "source": [
    "# 4. Read Stream Using Autoloader\n",
    "df_stream = (spark.readStream\n",
    "    .format(\"cloudFiles\")\n",
    "    .option(\"cloudFiles.format\", \"csv\")\n",
    "    .option(\"cloudFiles.inferColumnTypes\", \"false\")\n",
    "    .schema(activity_schema)\n",
    "    .load(source_path)\n",
    "    .withColumn(\"ingestion_timestamp\", current_timestamp())\n",
    ")"
   ]
  },
  {
   "cell_type": "code",
   "execution_count": 0,
   "metadata": {
    "application/vnd.databricks.v1+cell": {
     "cellMetadata": {
      "byteLimit": 2048000,
      "rowLimit": 10000
     },
     "inputWidgets": {},
     "nuid": "4fbd9f9a-35b6-4a87-ac44-29a754d1f46c",
     "showTitle": false,
     "tableResultSettingsMap": {},
     "title": ""
    }
   },
   "outputs": [],
   "source": [
    "# 5. Write Stream Out to Delta Table (Bronze)\n",
    "query = (df_stream.writeStream\n",
    "    .format(\"delta\")\n",
    "    .outputMode(\"append\")\n",
    "    .option(\"checkpointLocation\", bronze_path + \"/_checkpoint\")  \n",
    "    .start(bronze_path))\n",
    "\n",
    "print(\"Autoloader streaming started!\")"
   ]
  },
  {
   "cell_type": "code",
   "execution_count": 0,
   "metadata": {
    "application/vnd.databricks.v1+cell": {
     "cellMetadata": {
      "byteLimit": 2048000,
      "implicitDf": true,
      "rowLimit": 10000
     },
     "inputWidgets": {},
     "nuid": "1233040b-bd9d-4dff-855f-4205fe913c4a",
     "showTitle": false,
     "tableResultSettingsMap": {},
     "title": ""
    }
   },
   "outputs": [],
   "source": [
    "%sql\n",
    "SELECT * FROM delta.`s3://databricks-745bwkyiddeq9fthttjahg-cloud-storage-bucket/ohio-prod/3903799048317088/mnt/bronze/daily_activity_autoloaded/`"
   ]
  },
  {
   "cell_type": "code",
   "execution_count": 0,
   "metadata": {
    "application/vnd.databricks.v1+cell": {
     "cellMetadata": {},
     "inputWidgets": {},
     "nuid": "66abda91-b19f-4e89-a084-a5caafca912f",
     "showTitle": false,
     "tableResultSettingsMap": {},
     "title": ""
    }
   },
   "outputs": [],
   "source": []
  }
 ],
 "metadata": {
  "application/vnd.databricks.v1+notebook": {
   "computePreferences": null,
   "dashboards": [],
   "environmentMetadata": {
    "base_environment": "",
    "environment_version": "2"
   },
   "inputWidgetPreferences": null,
   "language": "python",
   "notebookMetadata": {
    "mostRecentlyExecutedCommandWithImplicitDF": {
     "commandId": 7143128602557800,
     "dataframes": [
      "_sqldf"
     ]
    },
    "pythonIndentUnit": 4
   },
   "notebookName": "04_autoloader_bronze",
   "widgets": {}
  },
  "language_info": {
   "name": "python"
  }
 },
 "nbformat": 4,
 "nbformat_minor": 0
}
