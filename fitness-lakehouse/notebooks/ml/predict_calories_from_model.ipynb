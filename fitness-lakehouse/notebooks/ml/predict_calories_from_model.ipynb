{
 "cells": [
  {
   "cell_type": "markdown",
   "metadata": {
    "application/vnd.databricks.v1+cell": {
     "cellMetadata": {},
     "inputWidgets": {},
     "nuid": "3a592445-5634-4cbc-975d-45e700f821b7",
     "showTitle": false,
     "tableResultSettingsMap": {},
     "title": ""
    }
   },
   "source": [
    "## Loads a trained model to predict calories burned based on new input data"
   ]
  },
  {
   "cell_type": "code",
   "execution_count": 0,
   "metadata": {
    "application/vnd.databricks.v1+cell": {
     "cellMetadata": {
      "byteLimit": 2048000,
      "rowLimit": 10000
     },
     "inputWidgets": {},
     "nuid": "31e7b841-17af-4ce3-a206-64d22ca6c098",
     "showTitle": false,
     "tableResultSettingsMap": {},
     "title": ""
    }
   },
   "outputs": [],
   "source": [
    "import mlflow\n",
    "import pandas as pd\n",
    "import joblib\n",
    "\n",
    "model_name = \"calorie_prediction_model\"\n",
    "model_version = \"1\"\n",
    "feature_order = joblib.load(\"/dbfs/tmp/features.joblib\")\n",
    "\n",
    "# Load the registered model from MLflow Model Registry\n",
    "model = mlflow.sklearn.load_model(f\"models:/{model_name}/{model_version}\")\n",
    "\n",
    "# Sample test input \n",
    "test_input = pd.DataFrame({\n",
    "    \"Id\": \"dummy_user\",\n",
    "    \"avg_steps\": [7000],\n",
    "    \"avg_distance\": [4.5],\n",
    "    \"avg_tracker_distance\": [4.4],\n",
    "    \"avg_very_active_distance\": [1.0],\n",
    "    \"avg_moderate_distance\": [0.7],\n",
    "    \"avg_light_distance\": [2.5],\n",
    "    \"avg_sedentary_distance\": [0.3],\n",
    "    \"avg_very_active_minutes\": [35],\n",
    "    \"avg_fairly_active_minutes\": [20],\n",
    "    \"avg_lightly_active_minutes\": [300],\n",
    "    \"avg_sedentary_minutes\": [1000],\n",
    "    \"activity_level\": \"Moderately Active\"\n",
    "})\n",
    "\n",
    "# One-hot encode the categorical column\n",
    "test_encoded = pd.get_dummies(test_input)\n",
    "\n",
    "# Ensure all expected columns exists (fill missing with 0)\n",
    "missing_cols = set(feature_order) - set(test_encoded.columns)\n",
    "for col in missing_cols:\n",
    "    test_encoded[col] = 0\n",
    "\n",
    "# Match the order of columns during training\n",
    "test_encoded = test_encoded[feature_order]\n",
    "\n",
    "# Predict\n",
    "predicted_calories = model.predict(test_encoded)\n",
    "print(f\"Predicted Calories Burned: {predicted_calories[0]:.2f}\")"
   ]
  },
  {
   "cell_type": "code",
   "execution_count": 0,
   "metadata": {
    "application/vnd.databricks.v1+cell": {
     "cellMetadata": {},
     "inputWidgets": {},
     "nuid": "eb437c3b-39ac-4693-991b-ad1a486f8d18",
     "showTitle": false,
     "tableResultSettingsMap": {},
     "title": ""
    }
   },
   "outputs": [],
   "source": []
  }
 ],
 "metadata": {
  "application/vnd.databricks.v1+notebook": {
   "computePreferences": null,
   "dashboards": [],
   "environmentMetadata": {
    "base_environment": "",
    "environment_version": "2"
   },
   "inputWidgetPreferences": null,
   "language": "python",
   "notebookMetadata": {
    "pythonIndentUnit": 4
   },
   "notebookName": "predict_calories_from_model",
   "widgets": {}
  },
  "language_info": {
   "name": "python"
  }
 },
 "nbformat": 4,
 "nbformat_minor": 0
}
