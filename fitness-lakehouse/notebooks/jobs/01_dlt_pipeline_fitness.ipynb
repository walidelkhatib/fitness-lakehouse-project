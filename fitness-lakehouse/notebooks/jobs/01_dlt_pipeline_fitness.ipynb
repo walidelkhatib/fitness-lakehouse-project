{
 "cells": [
  {
   "cell_type": "markdown",
   "metadata": {
    "application/vnd.databricks.v1+cell": {
     "cellMetadata": {},
     "inputWidgets": {},
     "nuid": "af37dca6-4bbe-4d98-8ae0-ca203e9f3719",
     "showTitle": false,
     "tableResultSettingsMap": {},
     "title": ""
    }
   },
   "source": [
    "## Primary DLT notebook containing all logic for bronze, silver, and gold table creation for Fitness Activity Lakehouse"
   ]
  },
  {
   "cell_type": "code",
   "execution_count": 0,
   "metadata": {
    "application/vnd.databricks.v1+cell": {
     "cellMetadata": {},
     "inputWidgets": {},
     "nuid": "81a184bd-d41e-47d2-84b8-061cc199b50a",
     "showTitle": false,
     "tableResultSettingsMap": {},
     "title": ""
    }
   },
   "outputs": [],
   "source": [
    "import dlt\n",
    "from pyspark.sql.functions import col, to_date, current_timestamp, when, sum as sum_, avg, count"
   ]
  },
  {
   "cell_type": "markdown",
   "metadata": {
    "application/vnd.databricks.v1+cell": {
     "cellMetadata": {},
     "inputWidgets": {},
     "nuid": "291f58d1-dd5b-402e-af67-8bb3d5d2bc22",
     "showTitle": false,
     "tableResultSettingsMap": {},
     "title": ""
    }
   },
   "source": [
    "### Bronze Layer - Ingest raw fitness activity data using Autoloader\n"
   ]
  },
  {
   "cell_type": "code",
   "execution_count": 0,
   "metadata": {
    "application/vnd.databricks.v1+cell": {
     "cellMetadata": {},
     "inputWidgets": {},
     "nuid": "9a909620-e9af-44e2-a3b4-f2b904b5f156",
     "showTitle": false,
     "tableResultSettingsMap": {},
     "title": ""
    }
   },
   "outputs": [],
   "source": [
    "@dlt.table(\n",
    "  comment=\"Raw fitness activity ingested from landing zone using Autoloader.\"\n",
    ")\n",
    "def bronze_daily_activity():\n",
    "    return (spark.readStream\n",
    "        .format(\"cloudFiles\")\n",
    "        .option(\"cloudFiles.format\", \"csv\")\n",
    "        .option(\"cloudFiles.inferColumnTypes\", \"false\")\n",
    "        .schema(\"\"\"\n",
    "            Id STRING,\n",
    "            ActivityDate STRING,\n",
    "            TotalSteps INT,\n",
    "            TotalDistance DOUBLE,\n",
    "            TrackerDistance DOUBLE,\n",
    "            LoggedActivitiesDistance DOUBLE,\n",
    "            VeryActiveDistance DOUBLE,\n",
    "            ModeratelyActiveDistance DOUBLE,\n",
    "            LightActiveDistance DOUBLE,\n",
    "            SedentaryActiveDistance DOUBLE,\n",
    "            VeryActiveMinutes INT,\n",
    "            FairlyActiveMinutes INT,\n",
    "            LightlyActiveMinutes INT,\n",
    "            SedentaryMinutes INT,\n",
    "            Calories INT\n",
    "        \"\"\")\n",
    "        .load(\"s3://databricks-745bwkyiddeq9fthttjahg-cloud-storage-bucket/ohio-prod/3903799048317088/landing/bronze/daily_activity_stream/\")\n",
    "        .withColumn(\"ingestion_timestamp\", current_timestamp())\n",
    "    )"
   ]
  },
  {
   "cell_type": "markdown",
   "metadata": {
    "application/vnd.databricks.v1+cell": {
     "cellMetadata": {},
     "inputWidgets": {},
     "nuid": "b0ea1fcd-e47a-424d-8b1b-9365891b47b4",
     "showTitle": false,
     "tableResultSettingsMap": {},
     "title": ""
    }
   },
   "source": [
    "### Silver Layer - Clean and enrich Bronze data with data quality checks\n"
   ]
  },
  {
   "cell_type": "code",
   "execution_count": 0,
   "metadata": {
    "application/vnd.databricks.v1+cell": {
     "cellMetadata": {},
     "inputWidgets": {},
     "nuid": "bc79ee68-2012-48b3-a1b3-f30b71b583ac",
     "showTitle": false,
     "tableResultSettingsMap": {},
     "title": ""
    }
   },
   "outputs": [],
   "source": [
    "@dlt.expect(\"valid_Id\", \"Id IS NOT NULL\")\n",
    "@dlt.expect(\"valid_ActivityDate\", \"ActivityDate IS NOT NULL\")\n",
    "@dlt.expect(\"Calories_positive\", \"Calories > 0\")\n",
    "@dlt.expect(\"TotalSteps_positive\", \"TotalSteps >= 0\")\n",
    "@dlt.table(\n",
    "  comment=\"Cleaned fitness activity data with parsed dates and derived activity levels.\"\n",
    ")\n",
    "def silver_daily_activity_clean():\n",
    "    df_bronze = dlt.read(\"bronze_daily_activity\")\n",
    "    return (df_bronze\n",
    "        .withColumn(\"ActivityDate\", to_date(col(\"ActivityDate\"), \"M/d/yyyy\"))\n",
    "        .withColumn(\"activity_level\", \n",
    "                    when(col(\"TotalSteps\") >= 10000, \"Very Active\")\n",
    "                    .when((col(\"TotalSteps\") >= 5000) & (col(\"TotalSteps\") < 10000), \"Moderately Active\")\n",
    "                    .otherwise(\"Lightly Active\"))\n",
    "        .dropna(subset=[\"Id\", \"ActivityDate\", \"TotalSteps\", \"Calories\"])\n",
    "    )"
   ]
  },
  {
   "cell_type": "markdown",
   "metadata": {
    "application/vnd.databricks.v1+cell": {
     "cellMetadata": {},
     "inputWidgets": {},
     "nuid": "388e8afc-3600-458b-9135-481f9a2bfaaa",
     "showTitle": false,
     "tableResultSettingsMap": {},
     "title": ""
    }
   },
   "source": [
    "### Gold Layer - Daily fitness KPIs for dashboarding and ML training"
   ]
  },
  {
   "cell_type": "code",
   "execution_count": 0,
   "metadata": {
    "application/vnd.databricks.v1+cell": {
     "cellMetadata": {},
     "inputWidgets": {},
     "nuid": "0b85be6c-8850-41eb-87f2-589fa64261e6",
     "showTitle": false,
     "tableResultSettingsMap": {},
     "title": ""
    }
   },
   "outputs": [],
   "source": [
    "# Gold Aggregation for Dashboarding\n",
    "@dlt.table(\n",
    "    name = \"gold_daily_activity_dashboard\",\n",
    "    comment=\"Daily activity metrics with per-user values for dashboarding.\"\n",
    ")\n",
    "def create_gold_dashboard():\n",
    "    df = dlt.read(\"silver_daily_activity_clean\")\n",
    "    return (\n",
    "        df.groupBy(\"Id\", \"ActivityDate\")\n",
    "        .agg(\n",
    "            sum_(\"TotalSteps\").alias(\"total_steps\"),\n",
    "            sum_(\"Calories\").alias(\"total_calories\"),\n",
    "            avg(\"TotalDistance\").alias(\"avg_distance\"),\n",
    "        )\n",
    "    )"
   ]
  },
  {
   "cell_type": "code",
   "execution_count": 0,
   "metadata": {
    "application/vnd.databricks.v1+cell": {
     "cellMetadata": {},
     "inputWidgets": {},
     "nuid": "0a4324e0-cb15-4cac-a836-a999665a1eeb",
     "showTitle": false,
     "tableResultSettingsMap": {},
     "title": ""
    }
   },
   "outputs": [],
   "source": [
    "# Gold Table Optimized for ML\n",
    "@dlt.table(\n",
    "    name = \"gold_daily_activity_ml\",\n",
    "    comment=\"ML-ready daily activity data per user.\"\n",
    ")\n",
    "def create_gold_ml():\n",
    "    df = dlt.read(\"silver_daily_activity_clean\")\n",
    "    return (\n",
    "        df.groupBy(\"Id\", \"activity_level\")\n",
    "        .agg(\n",
    "            avg(\"TotalSteps\").alias(\"avg_steps\"),\n",
    "            avg(\"Calories\").alias(\"avg_calories\"),\n",
    "            avg(\"TotalDistance\").alias(\"avg_distance\"),\n",
    "            avg(\"TrackerDistance\").alias(\"avg_tracker_distance\"),\n",
    "            avg(\"VeryActiveDistance\").alias(\"avg_very_active_distance\"),\n",
    "            avg(\"ModeratelyActiveDistance\").alias(\"avg_moderate_distance\"),\n",
    "            avg(\"LightActiveDistance\").alias(\"avg_light_distance\"),\n",
    "            avg(\"SedentaryActiveDistance\").alias(\"avg_sedentary_distance\"),\n",
    "            avg(\"VeryActiveMinutes\").alias(\"avg_very_active_minutes\"),\n",
    "            avg(\"FairlyActiveMinutes\").alias(\"avg_fairly_active_minutes\"),\n",
    "            avg(\"LightlyActiveMinutes\").alias(\"avg_lightly_active_minutes\"),\n",
    "            avg(\"SedentaryMinutes\").alias(\"avg_sedentary_minutes\")\n",
    "        )\n",
    "    )"
   ]
  }
 ],
 "metadata": {
  "application/vnd.databricks.v1+notebook": {
   "computePreferences": null,
   "dashboards": [],
   "environmentMetadata": {
    "base_environment": "",
    "environment_version": "2"
   },
   "inputWidgetPreferences": null,
   "language": "python",
   "notebookMetadata": {
    "pythonIndentUnit": 4
   },
   "notebookName": "01_dlt_pipeline_fitness",
   "widgets": {}
  },
  "language_info": {
   "name": "python"
  }
 },
 "nbformat": 4,
 "nbformat_minor": 0
}
