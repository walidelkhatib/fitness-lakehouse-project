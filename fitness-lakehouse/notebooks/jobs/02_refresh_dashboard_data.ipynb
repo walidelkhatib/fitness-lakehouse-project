{
 "cells": [
  {
   "cell_type": "markdown",
   "metadata": {
    "application/vnd.databricks.v1+cell": {
     "cellMetadata": {},
     "inputWidgets": {},
     "nuid": "551979da-1d25-4e48-90de-ef700b6fa788",
     "showTitle": false,
     "tableResultSettingsMap": {},
     "title": ""
    }
   },
   "source": [
    "## Refreshes materialized views to ensure the dashboard is querying the latest results"
   ]
  },
  {
   "cell_type": "code",
   "execution_count": 0,
   "metadata": {
    "application/vnd.databricks.v1+cell": {
     "cellMetadata": {
      "byteLimit": 2048000,
      "rowLimit": 10000
     },
     "inputWidgets": {},
     "nuid": "3f8749dc-4def-42ae-958c-c0c147ee59f7",
     "showTitle": false,
     "tableResultSettingsMap": {},
     "title": ""
    }
   },
   "outputs": [],
   "source": [
    "dbutils.widgets.text(\"catalog\", \"workspace\")\n",
    "dbutils.widgets.text(\"schema\", \"fitness_dlt\")\n",
    "dbutils.widgets.text(\"gold_table\", \"gold_daily_activity_dashboard\")\n",
    "\n",
    "catalog = dbutils.widgets.get(\"catalog\")\n",
    "schema = dbutils.widgets.get(\"schema\")\n",
    "gold_table = dbutils.widgets.get(\"gold_table\")\n",
    "\n",
    "full_table_name = f\"{catalog}.{schema}.{gold_table}\""
   ]
  },
  {
   "cell_type": "code",
   "execution_count": 0,
   "metadata": {
    "application/vnd.databricks.v1+cell": {
     "cellMetadata": {
      "byteLimit": 2048000,
      "rowLimit": 10000
     },
     "inputWidgets": {},
     "nuid": "0ecfd665-062e-49cc-a857-91048394ca60",
     "showTitle": false,
     "tableResultSettingsMap": {},
     "title": ""
    }
   },
   "outputs": [],
   "source": [
    "print(f\"Running warm-up query on {full_table_name}...\")\n",
    "\n",
    "row_count = spark.sql(f\"SELECT COUNT(*) AS total_rows FROM {full_table_name}\")\n",
    "row_count.show()"
   ]
  },
  {
   "cell_type": "code",
   "execution_count": 0,
   "metadata": {
    "application/vnd.databricks.v1+cell": {
     "cellMetadata": {
      "byteLimit": 2048000,
      "rowLimit": 10000
     },
     "inputWidgets": {},
     "nuid": "bbbe62f4-48f9-494a-a370-83b735cf1aae",
     "showTitle": false,
     "tableResultSettingsMap": {},
     "title": ""
    }
   },
   "outputs": [],
   "source": [
    "print(f\"Refreshed data for dashboard. Total rows now in Gold table:\")\n",
    "row_count.show()"
   ]
  },
  {
   "cell_type": "code",
   "execution_count": 0,
   "metadata": {
    "application/vnd.databricks.v1+cell": {
     "cellMetadata": {},
     "inputWidgets": {},
     "nuid": "3bfd281f-ffdf-4de1-b0bd-5b031adf9a9f",
     "showTitle": false,
     "tableResultSettingsMap": {},
     "title": ""
    }
   },
   "outputs": [],
   "source": []
  }
 ],
 "metadata": {
  "application/vnd.databricks.v1+notebook": {
   "computePreferences": null,
   "dashboards": [],
   "environmentMetadata": {
    "base_environment": "",
    "environment_version": "2"
   },
   "inputWidgetPreferences": null,
   "language": "python",
   "notebookMetadata": {
    "pythonIndentUnit": 4
   },
   "notebookName": "02_refresh_dashboard_data",
   "widgets": {
    "catalog": {
     "currentValue": "workspace",
     "nuid": "901c02f5-2c63-41af-b6c0-c04bfacf9f88",
     "typedWidgetInfo": {
      "autoCreated": false,
      "defaultValue": "workspace",
      "label": null,
      "name": "catalog",
      "options": {
       "widgetDisplayType": "Text",
       "validationRegex": null
      },
      "parameterDataType": "String"
     },
     "widgetInfo": {
      "widgetType": "text",
      "defaultValue": "workspace",
      "label": null,
      "name": "catalog",
      "options": {
       "widgetType": "text",
       "autoCreated": null,
       "validationRegex": null
      }
     }
    },
    "gold_table": {
     "currentValue": "gold_daily_activity_dashboard",
     "nuid": "20d44f6f-1d24-4a7e-9dcf-01ce091801e1",
     "typedWidgetInfo": {
      "autoCreated": false,
      "defaultValue": "gold_daily_activity_dashboard",
      "label": null,
      "name": "gold_table",
      "options": {
       "widgetDisplayType": "Text",
       "validationRegex": null
      },
      "parameterDataType": "String"
     },
     "widgetInfo": {
      "widgetType": "text",
      "defaultValue": "gold_daily_activity_dashboard",
      "label": null,
      "name": "gold_table",
      "options": {
       "widgetType": "text",
       "autoCreated": null,
       "validationRegex": null
      }
     }
    },
    "schema": {
     "currentValue": "fitness_dlt",
     "nuid": "5e1752da-9b2d-4cac-b785-561eccfa9ae6",
     "typedWidgetInfo": {
      "autoCreated": false,
      "defaultValue": "fitness_dlt",
      "label": null,
      "name": "schema",
      "options": {
       "widgetDisplayType": "Text",
       "validationRegex": null
      },
      "parameterDataType": "String"
     },
     "widgetInfo": {
      "widgetType": "text",
      "defaultValue": "fitness_dlt",
      "label": null,
      "name": "schema",
      "options": {
       "widgetType": "text",
       "autoCreated": null,
       "validationRegex": null
      }
     }
    }
   }
  },
  "language_info": {
   "name": "python"
  }
 },
 "nbformat": 4,
 "nbformat_minor": 0
}
